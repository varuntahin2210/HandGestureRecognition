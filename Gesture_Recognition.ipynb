{
 "cells": [
  {
   "cell_type": "markdown",
   "metadata": {},
   "source": [
    "# Gesture Recognition\n",
    "In this group project, you are going to build a 3D Conv model that will be able to predict the 5 gestures correctly. Please import the following libraries to get started."
   ]
  },
  {
   "cell_type": "code",
   "execution_count": 1,
   "metadata": {},
   "outputs": [
    {
     "name": "stderr",
     "output_type": "stream",
     "text": [
      "Using TensorFlow backend.\n"
     ]
    }
   ],
   "source": [
    "import numpy as np\n",
    "import cv2\n",
    "import os\n",
    "from scipy.misc import imread, imresize\n",
    "import datetime\n",
    "import os\n",
    "from keras.models import Sequential\n",
    "from keras.layers import Dense, Dropout, Activation, Flatten\n",
    "from keras.layers.normalization import BatchNormalization\n",
    "from keras.layers import Conv2D, MaxPooling2D\n",
    "from keras.regularizers import l2, l1\n",
    "from keras.layers import Conv3D,MaxPooling3D,SimpleRNN\n",
    "import random\n",
    "import cv2"
   ]
  },
  {
   "cell_type": "markdown",
   "metadata": {},
   "source": [
    "We set the random seed so that the results don't vary drastically."
   ]
  },
  {
   "cell_type": "code",
   "execution_count": 2,
   "metadata": {},
   "outputs": [],
   "source": [
    "np.random.seed(30)\n",
    "import random as rn\n",
    "rn.seed(30)\n",
    "from keras import backend as K\n",
    "import tensorflow as tf\n",
    "tf.set_random_seed(30)"
   ]
  },
  {
   "cell_type": "markdown",
   "metadata": {},
   "source": [
    "In this block, you read the folder names for training and validation. You also set the `batch_size` here. Note that you set the batch size in such a way that you are able to use the GPU in full capacity. You keep increasing the batch size until the machine throws an error."
   ]
  },
  {
   "cell_type": "code",
   "execution_count": 3,
   "metadata": {},
   "outputs": [],
   "source": [
    "train_doc = np.random.permutation(open('/notebooks/storage/Final_data/Collated_training/train.csv').readlines())\n",
    "val_doc = np.random.permutation(open('/notebooks/storage/Final_data/Collated_training/val.csv').readlines())\n",
    "batch_size = 30 #experiment with the batch size(UPDATE THIS-50, 40, 20, 10)"
   ]
  },
  {
   "cell_type": "code",
   "execution_count": 4,
   "metadata": {},
   "outputs": [],
   "source": [
    "from skimage import transform as tf"
   ]
  },
  {
   "cell_type": "markdown",
   "metadata": {},
   "source": [
    "## Generator\n",
    "This is one of the most important part of the code. The overall structure of the generator has been given. In the generator, you are going to preprocess the images as you have images of 2 different dimensions as well as create a batch of video frames. You have to experiment with `img_idx`, `y`,`z` and normalization such that you get high accuracy."
   ]
  },
  {
   "cell_type": "code",
   "execution_count": 5,
   "metadata": {},
   "outputs": [],
   "source": [
    "##Helper functions for Generator\n",
    "#Get image indexes to be used in the video\n",
    "def getImageIndexes(type=\"All\"):\n",
    "    if type==\"All\":\n",
    "        return [x for x in range(0, 30)] #return all indexes\n",
    "    elif type == \"Alternate1\":\n",
    "         return [x for x in range(0, 30, 2)] #return alternate frames starting with index 0\n",
    "    elif type == \"Alternate2\":\n",
    "         return [x for x in range(1, 30, 2)] #return alternate frames starting with index 1\n",
    "    elif type == \"Alternate3\":\n",
    "         return [x for x in range(0, 30, 3)] #return alternate frames starting with index 0 and skipping 2 frames in between\n",
    "    elif type == \"Less\":\n",
    "        return [0, 2, 10, 12, 14, 16, 18, 20, 27, 29] #return frame mostly from middle of the video with 2 frames from starting and ending each"
   ]
  },
  {
   "cell_type": "code",
   "execution_count": 6,
   "metadata": {},
   "outputs": [],
   "source": [
    "##Helper functions for Generator\n",
    "#Image resize/crop/padding functions\n",
    "def cropImageTo120(image):\n",
    "    return image if image.shape[0] == image.shape[1] else image[0:120, 20:140]\n",
    "\n",
    "def resizeImagetoSmallerSize(image, size=120):\n",
    "    return image if image.shape[0]==size else cv2.resize(image, (size,size), interpolation = cv2.INTER_AREA) #Shrink image to 120X120\n",
    "\n",
    "def resizeToSmallerImage(image, size=120):\n",
    "    #Crop and resize to size\n",
    "    return resizeImagetoSmallerSize(cropImageTo120(image), size)\n",
    "\n",
    "def resizeToLargeImage(image, size=360):\n",
    "    if image.shape[0] == image.shape[1] and image.shape[0] == size:\n",
    "        return image\n",
    "    if image.shape[0] != image.shape[1]:\n",
    "        #pad image to make it of size 160X160\n",
    "        image = cv2.copyMakeBorder(image,20,20,0,0,cv2.BORDER_CONSTANT,value=BLACK) #Pad image: cv2.copyMakeBorder( src, top, bottom, left, right, borderType)\n",
    "    if image.shape[0] > size:\n",
    "        return cv2.resize(image, (size,size), interpolation = cv2.INTER_AREA)\n",
    "    else:\n",
    "        return cv2.resize(image, (size,size), interpolation = cv2.INTER_CUBIC)\n",
    "\n",
    "#Image normalization functions\n",
    "def normalizeBasic(image):\n",
    "    return image/255\n",
    "\n",
    "def normalizeMean(image):\n",
    "    return (image - (np.min(image)/(np.max(image) - np.min(image))))\n",
    "\n",
    "def normalizePercentile(image):\n",
    "    return (image - (np.percentile(image,5)/(np.percentile(image,95) - np.percentile(image,5))))"
   ]
  },
  {
   "cell_type": "code",
   "execution_count": 7,
   "metadata": {},
   "outputs": [],
   "source": [
    "#Initialize variables used in this model\n",
    "image_idx=getImageIndexes(\"Alternate1\")\n",
    "y=80\n",
    "z=80\n",
    "input_shape=(15,y,z,3)\n",
    "normalizationTech=\"normalizeMean\"\n"
   ]
  },
  {
   "cell_type": "code",
   "execution_count": 8,
   "metadata": {},
   "outputs": [],
   "source": [
    "#Common code for Generator to load batch images\n",
    "def load_images_in_batch(source_path, folder_list, batch_size, t, batch, img_idx, train = True):\n",
    "    #Common code from Generator\n",
    "    try:\n",
    "        batch_data = np.zeros((batch_size,len(img_idx),y,z,3)) # x is the number of images you use for each video, (y,z) is the final size of the input images and 3 is the number of channels RGB\n",
    "        batch_labels = np.zeros((batch_size,5)) # batch_labels is the one hot representation of the output\n",
    "        batch_data_rot = np.zeros((batch_size,len(img_idx),y,z,3))\n",
    "        batch_labels_rot = np.zeros((batch_size,5))\n",
    "        batch_data_affine = np.zeros((batch_size,len(img_idx),y,z,3))\n",
    "        batch_labels_affine = np.zeros((batch_size,5))\n",
    "        for folder in range(batch_size): # iterate over the batch_size\n",
    "            imgs = os.listdir(source_path+'/'+ t[folder + (batch*batch_size)].split(';')[0]) # read all the images in the folder\n",
    "            for idx,item in enumerate(img_idx): #  Iterate iver the frames/images of a folder to read them in\n",
    "                image = imread(source_path+'/'+ t[folder + (batch*batch_size)].strip().split(';')[0]+'/'+imgs[item]).astype(np.float32)\n",
    "\n",
    "                #crop the images and resize them. Note that the images are of 2 different shape \n",
    "                #and the conv3D will throw error if the inputs in a batch have different shapes(UPDATE THIS)\n",
    "                image = resizeToSmallerImage(image, 80)\n",
    "                normalized_image = normalizeMean(image[:,:,:])\n",
    "\n",
    "                batch_data[folder,idx,:,:,0] = normalized_image[:,:,0]\n",
    "                batch_data[folder,idx,:,:,1] = normalized_image[:,:,1]\n",
    "                batch_data[folder,idx,:,:,2] = normalized_image[:,:,2]\n",
    "                \n",
    "                #Augmentation\n",
    "                #Rotate images by 30 degree\n",
    "                (h, w) = image.shape[:2]\n",
    "                (cx, cy) = (w // 2, h // 2)\n",
    "                M = cv2.getRotationMatrix2D((cx, cy), 30, 1.0)\n",
    "                batch_data_rot[folder,idx] = cv2.warpAffine(normalized_image, M, (w, h))\n",
    "                #Affine transformation\n",
    "                dx, dy = np.random.randint(-1.5, 1.4, 2)\n",
    "                M = np.float32([[1, 0, dx], [0, 1, dy]])\n",
    "                batch_data_affine[folder,idx] = (cv2.warpAffine(normalized_image, M, (w,h)))\n",
    "            \n",
    "            batch_labels[folder, int(t[folder + (batch*batch_size)].strip().split(';')[2])] = 1\n",
    "            batch_labels_rot[folder, int(t[folder + (batch*batch_size)].strip().split(';')[2])] = 1\n",
    "            batch_labels_affine[folder, int(t[folder + (batch*batch_size)].strip().split(';')[2])] = 1\n",
    "    except Exception as e:\n",
    "        print(e)\n",
    "    if train:\n",
    "        batch_data_final = np.append(batch_data, batch_data_affine, axis = 0)\n",
    "        batch_data_final = np.append(batch_data_final, batch_data_rot, axis = 0)\n",
    "        batch_labels_final = np.append(batch_labels, batch_labels_affine, axis = 0) \n",
    "        batch_labels_final = np.append(batch_labels_final, batch_labels_rot, axis = 0)\n",
    "        rand_idxs = random.sample(range(batch_size*3), batch_size)\n",
    "        return batch_data_final, batch_labels_final\n",
    "    else:\n",
    "        return batch_data, batch_labels"
   ]
  },
  {
   "cell_type": "code",
   "execution_count": 9,
   "metadata": {},
   "outputs": [],
   "source": [
    "def generator(source_path, folder_list, batch_size, train = True):\n",
    "    print( 'Source path = ', source_path, '; batch size =', batch_size)\n",
    "    img_idx = getImageIndexes(\"Alternate1\") #create a list of image numbers you want to use for a particular video\n",
    "    while True:\n",
    "        t = np.random.permutation(folder_list)\n",
    "        num_batches = len(folder_list)//batch_size # calculate the number of batches\n",
    "        for batch in range(num_batches): # we iterate over the number of batches\n",
    "            yield load_images_in_batch(source_path, folder_list, batch_size, t, batch, img_idx, train) #you yield the batch_data and the batch_labels, remember what does yield do\n",
    "\n",
    "        \n",
    "        # write the code for the remaining data points which are left after full batches\n",
    "        last_batch_size = len(folder_list)%batch_size\n",
    "        yield load_images_in_batch(source_path, folder_list, last_batch_size, t, num_batches, img_idx, train)\n"
   ]
  },
  {
   "cell_type": "markdown",
   "metadata": {},
   "source": [
    "Note here that a video is represented above in the generator as (number of images, height, width, number of channels). Take this into consideration while creating the model architecture."
   ]
  },
  {
   "cell_type": "code",
   "execution_count": 10,
   "metadata": {},
   "outputs": [
    {
     "name": "stdout",
     "output_type": "stream",
     "text": [
      "# training sequences = 663\n",
      "# validation sequences = 100\n",
      "# epochs = 40\n"
     ]
    }
   ],
   "source": [
    "curr_dt_time = datetime.datetime.now()\n",
    "train_path = '/notebooks/storage/Final_data/Collated_training/train'\n",
    "val_path = '/notebooks/storage/Final_data/Collated_training/val'\n",
    "num_train_sequences = len(train_doc)\n",
    "print('# training sequences =', num_train_sequences)\n",
    "num_val_sequences = len(val_doc)\n",
    "print('# validation sequences =', num_val_sequences)\n",
    "num_epochs = 40 # choose the number of epochs\n",
    "print ('# epochs =', num_epochs)"
   ]
  },
  {
   "cell_type": "markdown",
   "metadata": {},
   "source": [
    "## Model\n",
    "Here you make the model using different functionalities that Keras provides. Remember to use `Conv3D` and `MaxPooling3D` and not `Conv2D` and `Maxpooling2D` for a 3D convolution model. You would want to use `TimeDistributed` while building a Conv2D + RNN model. Also remember that the last layer is the softmax. Design the network in such a way that the model is able to give good accuracy on the least number of parameters so that it can fit in the memory of the webcam."
   ]
  },
  {
   "cell_type": "code",
   "execution_count": 11,
   "metadata": {},
   "outputs": [],
   "source": [
    "##CNN+RNN models functions\n",
    "def getConvRNN(num_filters, shape, num_classes=5):\n",
    "    model = Sequential()\n",
    "    \n",
    "    model.add(TimeDistributed(Conv2D(nb_featuremap[0], (3, 3), strides=(2, 2),activation='relu', padding='same'), input_shape=input_shape))\n",
    "\n",
    "    model.add(TimeDistributed(Conv2D(nb_featuremap[1], (3,3),padding='same', activation='relu')))\n",
    "    model.add(TimeDistributed(MaxPooling2D((2, 2), strides=(2, 2))))\n",
    "\n",
    "    model.add(TimeDistributed(Conv2D(nb_featuremap[2], (3,3),padding='same', activation='relu')))\n",
    "    model.add(TimeDistributed(MaxPooling2D((2, 2), strides=(2, 2))))\n",
    "\n",
    "    model.add(TimeDistributed(Conv2D(nb_featuremap[3], (2,2),padding='same', activation='relu')))\n",
    "    model.add(TimeDistributed(MaxPooling2D((2, 2), strides=(2, 2))))\n",
    "\n",
    "    model.add(TimeDistributed(BatchNormalization()))\n",
    "    model.add(Dropout(0.25))\n",
    "\n",
    "    model.add(TimeDistributed(Flatten()))\n",
    "    model.add(Dense(128, activation='relu'))# fully connected\n",
    "    model.add(Dropout(0.25))\n",
    "    model.add(Dense(64, activation='relu'))# fully connected\n",
    "    model.add(Dropout(0.25))\n",
    "    model.add(SimpleRNN(num_filters*8,  return_sequences=True))\n",
    "    model.add(Dense(num_classes, activation='softmax'))\n",
    "    return model\n",
    "\n",
    "def getConvBiDirectionalRNN(num_filters, shape, num_classes):\n",
    "    \n",
    "    nb_featuremap = [8,16,32,64]\n",
    "    nb_dense = [128,64,5]\n",
    "    nb_classes = 5\n",
    "    model = Sequential()\n",
    "    model.add(TimeDistributed(Conv2D(nb_featuremap[0], (3, 3), strides=(2, 2),activation='relu', padding='same'), input_shape=input_shape))\n",
    "\n",
    "    model.add(TimeDistributed(Conv2D(nb_featuremap[1], (3,3),padding='same', activation='relu')))\n",
    "    model.add(TimeDistributed(MaxPooling2D((2, 2), strides=(2, 2))))\n",
    "\n",
    "    model.add(TimeDistributed(Conv2D(nb_featuremap[2], (3,3),padding='same', activation='relu')))\n",
    "    model.add(TimeDistributed(MaxPooling2D((2, 2), strides=(2, 2))))\n",
    "\n",
    "    model.add(TimeDistributed(Conv2D(nb_featuremap[3], (2,2),padding='same', activation='relu')))\n",
    "    model.add(TimeDistributed(MaxPooling2D((2, 2), strides=(2, 2))))\n",
    "\n",
    "    model.add(TimeDistributed(BatchNormalization()))\n",
    "    model.add(Dropout(0.25))\n",
    "\n",
    "\n",
    "    model.add(TimeDistributed(Flatten()))\n",
    "    model.add(Dense(128, activation='relu'))# fully connected\n",
    "    model.add(Dropout(0.25))\n",
    "    model.add(Dense(64, activation='relu'))# fully connected\n",
    "    model.add(Dropout(0.25))\n",
    "    model.add(Bidirectional(SimpleRNN(128,  return_sequences=False)))\n",
    "    model.add(Dense(num_classes, activation='softmax'))\n",
    "    return model\n",
    "\n",
    "def getConvLSTM(num_filters, shape, num_classes, num_cells):\n",
    "    model = Sequential()\n",
    "    model.add(Conv2D(num_filters, kernel_size=(3, 3), activation='relu', input_shape=shape))\n",
    "\n",
    "    model.add(Conv2D(num_filters*2, kernel_size=(3, 3), activation='relu'))\n",
    "    model.add(MaxPooling2D(pool_size=(2, 2)))\n",
    "    model.add(Dropout(0.25))\n",
    "\n",
    "    model.add(Flatten())\n",
    "    model.add(Dense(num_filters*3, activation='relu')) # fully connected\n",
    "    model.add(Dropout(0.5))\n",
    "\n",
    "    \n",
    "    model.add(LSTM(num_cells, return_sequences=True)) \n",
    "    model.add(TimeDistributed(Dense(num_classes, activation='softmax')))\n",
    "    return model\n",
    "\n",
    "def getConvGRU(input_shape):\n",
    "    nb_featuremap = [16,32,64,128]\n",
    "    nb_dense = [128,64,5]\n",
    "    nb_classes = 5\n",
    "    model = Sequential()\n",
    "    model.add(TimeDistributed(Conv2D(nb_featuremap[0], (3, 3), strides=(2, 2),activation='relu', padding='same'), input_shape=input_shape))\n",
    "\n",
    "    model.add(TimeDistributed(Conv2D(nb_featuremap[1], (3,3),padding='same', activation='relu')))\n",
    "    model.add(TimeDistributed(MaxPooling2D((2, 2), strides=(2, 2))))\n",
    "\n",
    "    model.add(TimeDistributed(Conv2D(nb_featuremap[2], (3,3),padding='same', activation='relu')))\n",
    "    model.add(TimeDistributed(MaxPooling2D((2, 2), strides=(2, 2))))\n",
    "\n",
    "    model.add(TimeDistributed(Conv2D(nb_featuremap[3], (2,2),padding='same', activation='relu')))\n",
    "    model.add(TimeDistributed(MaxPooling2D((2, 2), strides=(2, 2))))\n",
    "\n",
    "    model.add(TimeDistributed(BatchNormalization()))\n",
    "    model.add(Dropout(0.25))\n",
    "\n",
    "    model.add(TimeDistributed(Flatten()))\n",
    "    model.add(Dense(128, activation='relu'))# fully connected\n",
    "    model.add(Dropout(0.25))\n",
    "    model.add(Dense(64, activation='relu'))# fully connected\n",
    "    model.add(Dropout(0.25))\n",
    "    model.add(GRU(64, return_sequences=False)) \n",
    "    model.add(Dense(nb_classes, activation='softmax'))\n",
    "    return model"
   ]
  },
  {
   "cell_type": "code",
   "execution_count": 12,
   "metadata": {},
   "outputs": [],
   "source": [
    "#Convolution 3d model\n",
    "def getConv3dModel(input_shape):\n",
    "    model = Sequential()\n",
    "    model.add(Conv3D(16, (3,3,3), strides=(1,1,1), padding='same', input_shape=input_shape))\n",
    "    model.add(BatchNormalization())\n",
    "    model.add(Activation('relu'))\n",
    "    model.add(MaxPooling3D(pool_size=(2,2,2), strides=(2,2,2)))\n",
    "\n",
    "    model.add(Conv3D(32, (3,3,3), strides=(1,1,1), padding='same'))\n",
    "    model.add(BatchNormalization())\n",
    "    model.add(Activation('relu'))\n",
    "    model.add(MaxPooling3D(pool_size=(2,2,2), strides=(2,2,2)))\n",
    "\n",
    "    model.add(Conv3D(64, (3,3,3), strides=(1,1,1), padding='same'))\n",
    "    model.add(BatchNormalization())\n",
    "    model.add(Activation('relu'))\n",
    "    model.add(MaxPooling3D(pool_size=(2,2,2), strides=(2,2,2)))\n",
    "\n",
    "    model.add(Conv3D(64, (3,3,3), strides=(1,1,1), padding='same'))\n",
    "    model.add(BatchNormalization())\n",
    "    model.add(Activation('relu'))\n",
    "    model.add(MaxPooling3D(pool_size=(1,1,1), strides=(1,1,1)))\n",
    "\n",
    "    model.add(Flatten())\n",
    "    model.add(Dropout(0.25))\n",
    "    model.add(Dense(512, activation='relu'))\n",
    "    model.add(Dropout(0.25))\n",
    "    model.add(Dense(256, activation='relu'))\n",
    "    model.add(Dropout(0.25))\n",
    "    model.add(Dense(5, activation='softmax'))\n",
    "    return model"
   ]
  },
  {
   "cell_type": "code",
   "execution_count": 13,
   "metadata": {},
   "outputs": [],
   "source": [
    "from keras.models import Sequential, Model\n",
    "from keras.layers import Dense, GRU, Flatten, TimeDistributed, Flatten, BatchNormalization, Activation,GlobalAveragePooling2D\n",
    "from keras.layers.convolutional import Conv3D, MaxPooling3D\n",
    "from keras.callbacks import ModelCheckpoint, ReduceLROnPlateau\n",
    "from keras.applications.resnet50 import ResNet50\n",
    "from keras import optimizers \n",
    "\n",
    "model = getConv3dModel(input_shape)"
   ]
  },
  {
   "cell_type": "markdown",
   "metadata": {},
   "source": [
    "Now that you have written the model, the next step is to `compile` the model. When you print the `summary` of the model, you'll see the total number of parameters you have to train."
   ]
  },
  {
   "cell_type": "code",
   "execution_count": 14,
   "metadata": {},
   "outputs": [
    {
     "name": "stdout",
     "output_type": "stream",
     "text": [
      "Image indexes [0, 2, 4, 6, 8, 10, 12, 14, 16, 18, 20, 22, 24, 26, 28]\n",
      "Image shape (15, 80, 80, 3)\n",
      "Normalization technique: normalizeMean\n",
      "Batch size: 30\n",
      "Number of epochs: 40\n"
     ]
    }
   ],
   "source": [
    "#Parameters\n",
    "print(\"Image indexes\", image_idx)\n",
    "print(\"Image shape\", input_shape)\n",
    "print(\"Normalization technique:\", normalizationTech)\n",
    "print(\"Batch size:\", batch_size)\n",
    "print(\"Number of epochs:\", num_epochs)"
   ]
  },
  {
   "cell_type": "code",
   "execution_count": 15,
   "metadata": {
    "scrolled": true
   },
   "outputs": [
    {
     "name": "stdout",
     "output_type": "stream",
     "text": [
      "Optimiser: sgd\n",
      "_________________________________________________________________\n",
      "Layer (type)                 Output Shape              Param #   \n",
      "=================================================================\n",
      "conv3d_1 (Conv3D)            (None, 15, 80, 80, 16)    1312      \n",
      "_________________________________________________________________\n",
      "batch_normalization_1 (Batch (None, 15, 80, 80, 16)    64        \n",
      "_________________________________________________________________\n",
      "activation_1 (Activation)    (None, 15, 80, 80, 16)    0         \n",
      "_________________________________________________________________\n",
      "max_pooling3d_1 (MaxPooling3 (None, 7, 40, 40, 16)     0         \n",
      "_________________________________________________________________\n",
      "conv3d_2 (Conv3D)            (None, 7, 40, 40, 32)     13856     \n",
      "_________________________________________________________________\n",
      "batch_normalization_2 (Batch (None, 7, 40, 40, 32)     128       \n",
      "_________________________________________________________________\n",
      "activation_2 (Activation)    (None, 7, 40, 40, 32)     0         \n",
      "_________________________________________________________________\n",
      "max_pooling3d_2 (MaxPooling3 (None, 3, 20, 20, 32)     0         \n",
      "_________________________________________________________________\n",
      "conv3d_3 (Conv3D)            (None, 3, 20, 20, 64)     55360     \n",
      "_________________________________________________________________\n",
      "batch_normalization_3 (Batch (None, 3, 20, 20, 64)     256       \n",
      "_________________________________________________________________\n",
      "activation_3 (Activation)    (None, 3, 20, 20, 64)     0         \n",
      "_________________________________________________________________\n",
      "max_pooling3d_3 (MaxPooling3 (None, 1, 10, 10, 64)     0         \n",
      "_________________________________________________________________\n",
      "conv3d_4 (Conv3D)            (None, 1, 10, 10, 64)     110656    \n",
      "_________________________________________________________________\n",
      "batch_normalization_4 (Batch (None, 1, 10, 10, 64)     256       \n",
      "_________________________________________________________________\n",
      "activation_4 (Activation)    (None, 1, 10, 10, 64)     0         \n",
      "_________________________________________________________________\n",
      "max_pooling3d_4 (MaxPooling3 (None, 1, 10, 10, 64)     0         \n",
      "_________________________________________________________________\n",
      "flatten_1 (Flatten)          (None, 6400)              0         \n",
      "_________________________________________________________________\n",
      "dropout_1 (Dropout)          (None, 6400)              0         \n",
      "_________________________________________________________________\n",
      "dense_1 (Dense)              (None, 512)               3277312   \n",
      "_________________________________________________________________\n",
      "dropout_2 (Dropout)          (None, 512)               0         \n",
      "_________________________________________________________________\n",
      "dense_2 (Dense)              (None, 256)               131328    \n",
      "_________________________________________________________________\n",
      "dropout_3 (Dropout)          (None, 256)               0         \n",
      "_________________________________________________________________\n",
      "dense_3 (Dense)              (None, 5)                 1285      \n",
      "=================================================================\n",
      "Total params: 3,591,813\n",
      "Trainable params: 3,591,461\n",
      "Non-trainable params: 352\n",
      "_________________________________________________________________\n",
      "None\n"
     ]
    }
   ],
   "source": [
    "optimiser = 'sgd' #write your optimizer UPDATE THIS (SGD, Adam, Adamax, Adadelta)\n",
    "print (\"Optimiser:\", optimiser)\n",
    "model.compile(optimizer=optimiser, loss='categorical_crossentropy', metrics=['categorical_accuracy'])\n",
    "print (model.summary())"
   ]
  },
  {
   "cell_type": "markdown",
   "metadata": {},
   "source": [
    "Let us create the `train_generator` and the `val_generator` which will be used in `.fit_generator`."
   ]
  },
  {
   "cell_type": "code",
   "execution_count": 16,
   "metadata": {},
   "outputs": [],
   "source": [
    "train_generator = generator(train_path, train_doc, batch_size)\n",
    "val_generator = generator(val_path, val_doc, batch_size, train= False)"
   ]
  },
  {
   "cell_type": "code",
   "execution_count": 17,
   "metadata": {},
   "outputs": [],
   "source": [
    "model_name = 'model_init' + '_' + str(curr_dt_time).replace(' ','').replace(':','_') + '/'\n",
    "    \n",
    "if not os.path.exists(model_name):\n",
    "    os.mkdir(model_name)\n",
    "        \n",
    "filepath = model_name + 'model-{epoch:05d}-{loss:.5f}-{categorical_accuracy:.5f}-{val_loss:.5f}-{val_categorical_accuracy:.5f}.h5'\n",
    "\n",
    "checkpoint = ModelCheckpoint(filepath, monitor='val_loss', verbose=1, save_best_only=False, save_weights_only=False, mode='auto', period=1)\n",
    "\n",
    "LR = ReduceLROnPlateau(monitor='val_loss', factor=0.5, patience=2, min_lr=0.001)# write the REducelronplateau code here (UPDATE THIS)\n",
    "callbacks_list = [checkpoint, LR]"
   ]
  },
  {
   "cell_type": "markdown",
   "metadata": {},
   "source": [
    "The `steps_per_epoch` and `validation_steps` are used by `fit_generator` to decide the number of next() calls it need to make."
   ]
  },
  {
   "cell_type": "code",
   "execution_count": 18,
   "metadata": {},
   "outputs": [],
   "source": [
    "if (num_train_sequences%batch_size) == 0:\n",
    "    steps_per_epoch = int(num_train_sequences/batch_size)\n",
    "else:\n",
    "    steps_per_epoch = (num_train_sequences//batch_size) + 1\n",
    "\n",
    "if (num_val_sequences%batch_size) == 0:\n",
    "    validation_steps = int(num_val_sequences/batch_size)\n",
    "else:\n",
    "    validation_steps = (num_val_sequences//batch_size) + 1"
   ]
  },
  {
   "cell_type": "markdown",
   "metadata": {},
   "source": [
    "Let us now fit the model. This will start training the model and with the help of the checkpoints, you'll be able to save the model at the end of each epoch."
   ]
  },
  {
   "cell_type": "code",
   "execution_count": 19,
   "metadata": {},
   "outputs": [
    {
     "name": "stdout",
     "output_type": "stream",
     "text": [
      "Source path =  notebooks/storage/Final_data/Collated_training/val ; batch size = 30\n",
      "Source path =  notebooks/storage/Final_data/Collated_training/train ; batch size = 30\n",
      "Epoch 1/40\n"
     ]
    },
    {
     "name": "stderr",
     "output_type": "stream",
     "text": [
      "/mnt/disks/user/anaconda3/lib/python3.6/site-packages/ipykernel_launcher.py:14: DeprecationWarning: `imread` is deprecated!\n",
      "`imread` is deprecated in SciPy 1.0.0, and will be removed in 1.2.0.\n",
      "Use ``imageio.imread`` instead.\n",
      "  \n"
     ]
    },
    {
     "name": "stdout",
     "output_type": "stream",
     "text": [
      "23/23 [==============================] - 42s 2s/step - loss: 1.6048 - categorical_accuracy: 0.3382 - val_loss: 3.6517 - val_categorical_accuracy: 0.2200\n",
      "\n",
      "Epoch 00001: saving model to model_init_2019-12-2215_30_57.677617/model-00001-1.59848-0.33836-3.65171-0.22000.h5\n",
      "Epoch 2/40\n",
      "23/23 [==============================] - 37s 2s/step - loss: 1.2605 - categorical_accuracy: 0.4363 - val_loss: 1.3466 - val_categorical_accuracy: 0.4000\n",
      "\n",
      "Epoch 00002: saving model to model_init_2019-12-2215_30_57.677617/model-00002-1.25282-0.44897-1.34664-0.40000.h5\n",
      "Epoch 3/40\n",
      "23/23 [==============================] - 37s 2s/step - loss: 1.1334 - categorical_accuracy: 0.5168 - val_loss: 1.4588 - val_categorical_accuracy: 0.4400\n",
      "\n",
      "Epoch 00003: saving model to model_init_2019-12-2215_30_57.677617/model-00003-1.11067-0.53695-1.45880-0.44000.h5\n",
      "Epoch 4/40\n",
      "23/23 [==============================] - 37s 2s/step - loss: 0.9912 - categorical_accuracy: 0.5893 - val_loss: 1.2415 - val_categorical_accuracy: 0.4800\n",
      "\n",
      "Epoch 00004: saving model to model_init_2019-12-2215_30_57.677617/model-00004-0.97748-0.59930-1.24154-0.48000.h5\n",
      "Epoch 5/40\n",
      "23/23 [==============================] - 37s 2s/step - loss: 0.9315 - categorical_accuracy: 0.6384 - val_loss: 2.5724 - val_categorical_accuracy: 0.3100\n",
      "\n",
      "Epoch 00005: saving model to model_init_2019-12-2215_30_57.677617/model-00005-0.93459-0.63298-2.57235-0.31000.h5\n",
      "Epoch 6/40\n",
      "23/23 [==============================] - 37s 2s/step - loss: 0.8602 - categorical_accuracy: 0.6644 - val_loss: 1.9676 - val_categorical_accuracy: 0.4000\n",
      "\n",
      "Epoch 00006: saving model to model_init_2019-12-2215_30_57.677617/model-00006-0.85322-0.66868-1.96755-0.40000.h5\n",
      "Epoch 7/40\n",
      "23/23 [==============================] - 37s 2s/step - loss: 0.7738 - categorical_accuracy: 0.7107 - val_loss: 0.9391 - val_categorical_accuracy: 0.6200\n",
      "\n",
      "Epoch 00007: saving model to model_init_2019-12-2215_30_57.677617/model-00007-0.76076-0.71242-0.93907-0.62000.h5\n",
      "Epoch 8/40\n",
      "23/23 [==============================] - 37s 2s/step - loss: 0.6908 - categorical_accuracy: 0.7310 - val_loss: 0.7357 - val_categorical_accuracy: 0.7300\n",
      "\n",
      "Epoch 00008: saving model to model_init_2019-12-2215_30_57.677617/model-00008-0.68782-0.73353-0.73572-0.73000.h5\n",
      "Epoch 9/40\n",
      "23/23 [==============================] - 37s 2s/step - loss: 0.6193 - categorical_accuracy: 0.7616 - val_loss: 0.7792 - val_categorical_accuracy: 0.6900\n",
      "\n",
      "Epoch 00009: saving model to model_init_2019-12-2215_30_57.677617/model-00009-0.63114-0.75666-0.77918-0.69000.h5\n",
      "Epoch 10/40\n",
      "23/23 [==============================] - 37s 2s/step - loss: 0.5764 - categorical_accuracy: 0.7887 - val_loss: 0.7574 - val_categorical_accuracy: 0.6600\n",
      "\n",
      "Epoch 00010: saving model to model_init_2019-12-2215_30_57.677617/model-00010-0.58280-0.78482-0.75742-0.66000.h5\n",
      "Epoch 11/40\n",
      "23/23 [==============================] - 37s 2s/step - loss: 0.5774 - categorical_accuracy: 0.7646 - val_loss: 0.9502 - val_categorical_accuracy: 0.6700\n",
      "\n",
      "Epoch 00011: saving model to model_init_2019-12-2215_30_57.677617/model-00011-0.56530-0.77275-0.95024-0.67000.h5\n",
      "Epoch 12/40\n",
      "23/23 [==============================] - 37s 2s/step - loss: 0.5369 - categorical_accuracy: 0.7905 - val_loss: 0.9073 - val_categorical_accuracy: 0.6100\n",
      "\n",
      "Epoch 00012: saving model to model_init_2019-12-2215_30_57.677617/model-00012-0.52447-0.79537-0.90733-0.61000.h5\n",
      "Epoch 13/40\n",
      "23/23 [==============================] - 37s 2s/step - loss: 0.5180 - categorical_accuracy: 0.8139 - val_loss: 0.7522 - val_categorical_accuracy: 0.7100\n",
      "\n",
      "Epoch 00013: saving model to model_init_2019-12-2215_30_57.677617/model-00013-0.51718-0.81096-0.75218-0.71000.h5\n",
      "Epoch 14/40\n",
      "23/23 [==============================] - 37s 2s/step - loss: 0.5081 - categorical_accuracy: 0.8167 - val_loss: 0.7121 - val_categorical_accuracy: 0.7300\n",
      "\n",
      "Epoch 00014: saving model to model_init_2019-12-2215_30_57.677617/model-00014-0.49447-0.82252-0.71212-0.73000.h5\n",
      "Epoch 15/40\n",
      "23/23 [==============================] - 37s 2s/step - loss: 0.5100 - categorical_accuracy: 0.8081 - val_loss: 0.6583 - val_categorical_accuracy: 0.7000\n",
      "\n",
      "Epoch 00015: saving model to model_init_2019-12-2215_30_57.677617/model-00015-0.51127-0.80493-0.65828-0.70000.h5\n",
      "Epoch 16/40\n",
      "23/23 [==============================] - 37s 2s/step - loss: 0.4913 - categorical_accuracy: 0.8234 - val_loss: 0.6240 - val_categorical_accuracy: 0.7600\n",
      "\n",
      "Epoch 00016: saving model to model_init_2019-12-2215_30_57.677617/model-00016-0.50199-0.81649-0.62399-0.76000.h5\n",
      "Epoch 17/40\n",
      "23/23 [==============================] - 37s 2s/step - loss: 0.4840 - categorical_accuracy: 0.8247 - val_loss: 0.6593 - val_categorical_accuracy: 0.7800\n",
      "\n",
      "Epoch 00017: saving model to model_init_2019-12-2215_30_57.677617/model-00017-0.48244-0.82655-0.65933-0.78000.h5\n",
      "Epoch 18/40\n",
      "23/23 [==============================] - 37s 2s/step - loss: 0.4849 - categorical_accuracy: 0.8067 - val_loss: 0.6988 - val_categorical_accuracy: 0.7300\n",
      "\n",
      "Epoch 00018: saving model to model_init_2019-12-2215_30_57.677617/model-00018-0.47843-0.81649-0.69881-0.73000.h5\n",
      "Epoch 19/40\n",
      "23/23 [==============================] - 37s 2s/step - loss: 0.4491 - categorical_accuracy: 0.8447 - val_loss: 0.6069 - val_categorical_accuracy: 0.7800\n",
      "\n",
      "Epoch 00019: saving model to model_init_2019-12-2215_30_57.677617/model-00019-0.45739-0.83861-0.60687-0.78000.h5\n",
      "Epoch 20/40\n",
      "23/23 [==============================] - 38s 2s/step - loss: 0.4793 - categorical_accuracy: 0.8135 - val_loss: 0.5644 - val_categorical_accuracy: 0.8000\n",
      "\n",
      "Epoch 00020: saving model to model_init_2019-12-2215_30_57.677617/model-00020-0.45973-0.82353-0.56440-0.80000.h5\n",
      "Epoch 21/40\n",
      "23/23 [==============================] - 37s 2s/step - loss: 0.4451 - categorical_accuracy: 0.8383 - val_loss: 0.5984 - val_categorical_accuracy: 0.8100\n",
      "\n",
      "Epoch 00021: saving model to model_init_2019-12-2215_30_57.677617/model-00021-0.44391-0.84062-0.59835-0.81000.h5\n",
      "Epoch 22/40\n",
      "23/23 [==============================] - 37s 2s/step - loss: 0.4327 - categorical_accuracy: 0.8531 - val_loss: 0.6289 - val_categorical_accuracy: 0.7700\n",
      "\n",
      "Epoch 00022: saving model to model_init_2019-12-2215_30_57.677617/model-00022-0.42988-0.85168-0.62889-0.77000.h5\n",
      "Epoch 23/40\n",
      "23/23 [==============================] - 38s 2s/step - loss: 0.4330 - categorical_accuracy: 0.8250 - val_loss: 0.6099 - val_categorical_accuracy: 0.7600\n",
      "\n",
      "Epoch 00023: saving model to model_init_2019-12-2215_30_57.677617/model-00023-0.43950-0.82252-0.60987-0.76000.h5\n",
      "Epoch 24/40\n",
      "23/23 [==============================] - 38s 2s/step - loss: 0.4340 - categorical_accuracy: 0.8452 - val_loss: 0.5883 - val_categorical_accuracy: 0.7700\n",
      "\n",
      "Epoch 00024: saving model to model_init_2019-12-2215_30_57.677617/model-00024-0.41204-0.85219-0.58828-0.77000.h5\n",
      "Epoch 25/40\n",
      "23/23 [==============================] - 37s 2s/step - loss: 0.4504 - categorical_accuracy: 0.8275 - val_loss: 0.6711 - val_categorical_accuracy: 0.7200\n",
      "\n",
      "Epoch 00025: saving model to model_init_2019-12-2215_30_57.677617/model-00025-0.43178-0.83811-0.67106-0.72000.h5\n",
      "Epoch 26/40\n",
      "23/23 [==============================] - 37s 2s/step - loss: 0.4079 - categorical_accuracy: 0.8548 - val_loss: 0.5838 - val_categorical_accuracy: 0.7500\n",
      "\n",
      "Epoch 00026: saving model to model_init_2019-12-2215_30_57.677617/model-00026-0.41792-0.84917-0.58384-0.75000.h5\n",
      "Epoch 27/40\n",
      "23/23 [==============================] - 38s 2s/step - loss: 0.4320 - categorical_accuracy: 0.8430 - val_loss: 0.7298 - val_categorical_accuracy: 0.7100\n",
      "\n",
      "Epoch 00027: saving model to model_init_2019-12-2215_30_57.677617/model-00027-0.41553-0.85420-0.72976-0.71000.h5\n",
      "Epoch 28/40\n",
      "23/23 [==============================] - 37s 2s/step - loss: 0.4051 - categorical_accuracy: 0.8597 - val_loss: 0.6529 - val_categorical_accuracy: 0.7600\n",
      "\n",
      "Epoch 00028: saving model to model_init_2019-12-2215_30_57.677617/model-00028-0.41430-0.85420-0.65291-0.76000.h5\n",
      "Epoch 29/40\n",
      "23/23 [==============================] - 38s 2s/step - loss: 0.3955 - categorical_accuracy: 0.8597 - val_loss: 0.5452 - val_categorical_accuracy: 0.8100\n",
      "\n",
      "Epoch 00029: saving model to model_init_2019-12-2215_30_57.677617/model-00029-0.39978-0.85420-0.54520-0.81000.h5\n",
      "Epoch 30/40\n",
      "23/23 [==============================] - 37s 2s/step - loss: 0.3996 - categorical_accuracy: 0.8571 - val_loss: 0.4955 - val_categorical_accuracy: 0.8300\n"
     ]
    },
    {
     "name": "stdout",
     "output_type": "stream",
     "text": [
      "\n",
      "Epoch 00030: saving model to model_init_2019-12-2215_30_57.677617/model-00030-0.39305-0.86023-0.49555-0.83000.h5\n",
      "Epoch 31/40\n",
      "23/23 [==============================] - 38s 2s/step - loss: 0.3965 - categorical_accuracy: 0.8564 - val_loss: 0.6437 - val_categorical_accuracy: 0.7700\n",
      "\n",
      "Epoch 00031: saving model to model_init_2019-12-2215_30_57.677617/model-00031-0.38441-0.86375-0.64373-0.77000.h5\n",
      "Epoch 32/40\n",
      "23/23 [==============================] - 38s 2s/step - loss: 0.3979 - categorical_accuracy: 0.8450 - val_loss: 0.5635 - val_categorical_accuracy: 0.8000\n",
      "\n",
      "Epoch 00032: saving model to model_init_2019-12-2215_30_57.677617/model-00032-0.39426-0.84766-0.56352-0.80000.h5\n",
      "Epoch 33/40\n",
      "23/23 [==============================] - 38s 2s/step - loss: 0.3930 - categorical_accuracy: 0.8571 - val_loss: 0.6370 - val_categorical_accuracy: 0.7200\n",
      "\n",
      "Epoch 00033: saving model to model_init_2019-12-2215_30_57.677617/model-00033-0.38801-0.86023-0.63696-0.72000.h5\n",
      "Epoch 34/40\n",
      "23/23 [==============================] - 37s 2s/step - loss: 0.3868 - categorical_accuracy: 0.8589 - val_loss: 0.6096 - val_categorical_accuracy: 0.7800\n",
      "\n",
      "Epoch 00034: saving model to model_init_2019-12-2215_30_57.677617/model-00034-0.38439-0.85772-0.60960-0.78000.h5\n",
      "Epoch 35/40\n",
      "23/23 [==============================] - 38s 2s/step - loss: 0.4201 - categorical_accuracy: 0.8430 - val_loss: 0.6468 - val_categorical_accuracy: 0.7700\n",
      "\n",
      "Epoch 00035: saving model to model_init_2019-12-2215_30_57.677617/model-00035-0.38996-0.85420-0.64680-0.77000.h5\n",
      "Epoch 36/40\n",
      "23/23 [==============================] - 37s 2s/step - loss: 0.4052 - categorical_accuracy: 0.8578 - val_loss: 0.5449 - val_categorical_accuracy: 0.8000\n",
      "\n",
      "Epoch 00036: saving model to model_init_2019-12-2215_30_57.677617/model-00036-0.37755-0.86526-0.54486-0.80000.h5\n",
      "Epoch 37/40\n",
      "23/23 [==============================] - 38s 2s/step - loss: 0.3585 - categorical_accuracy: 0.8797 - val_loss: 0.5354 - val_categorical_accuracy: 0.7900\n",
      "\n",
      "Epoch 00037: saving model to model_init_2019-12-2215_30_57.677617/model-00037-0.35686-0.87934-0.53539-0.79000.h5\n",
      "Epoch 38/40\n",
      "23/23 [==============================] - 37s 2s/step - loss: 0.3500 - categorical_accuracy: 0.8799 - val_loss: 0.6494 - val_categorical_accuracy: 0.7800\n",
      "\n",
      "Epoch 00038: saving model to model_init_2019-12-2215_30_57.677617/model-00038-0.34945-0.88386-0.64941-0.78000.h5\n",
      "Epoch 39/40\n",
      "23/23 [==============================] - 38s 2s/step - loss: 0.3584 - categorical_accuracy: 0.8654 - val_loss: 0.6079 - val_categorical_accuracy: 0.7500\n",
      "\n",
      "Epoch 00039: saving model to model_init_2019-12-2215_30_57.677617/model-00039-0.35296-0.86878-0.60786-0.75000.h5\n",
      "Epoch 40/40\n",
      "23/23 [==============================] - 37s 2s/step - loss: 0.3763 - categorical_accuracy: 0.8690 - val_loss: 0.6126 - val_categorical_accuracy: 0.7900\n",
      "\n",
      "Epoch 00040: saving model to model_init_2019-12-2215_30_57.677617/model-00040-0.36425-0.86828-0.61259-0.79000.h5\n"
     ]
    },
    {
     "data": {
      "text/plain": [
       "<keras.callbacks.History at 0x7f9d34379780>"
      ]
     },
     "execution_count": 19,
     "metadata": {},
     "output_type": "execute_result"
    }
   ],
   "source": [
    "model.fit_generator(train_generator, steps_per_epoch=steps_per_epoch, epochs=num_epochs, verbose=1, \n",
    "                    callbacks=callbacks_list, validation_data=val_generator, \n",
    "                    validation_steps=validation_steps, class_weight=None, workers=1, initial_epoch=0)"
   ]
  },
  {
   "cell_type": "code",
   "execution_count": null,
   "metadata": {},
   "outputs": [],
   "source": []
  }
 ],
 "metadata": {
  "kernelspec": {
   "display_name": "Python 3",
   "language": "python",
   "name": "python3"
  },
  "language_info": {
   "codemirror_mode": {
    "name": "ipython",
    "version": 3
   },
   "file_extension": ".py",
   "mimetype": "text/x-python",
   "name": "python",
   "nbconvert_exporter": "python",
   "pygments_lexer": "ipython3",
   "version": "3.6.8"
  }
 },
 "nbformat": 4,
 "nbformat_minor": 2
}
